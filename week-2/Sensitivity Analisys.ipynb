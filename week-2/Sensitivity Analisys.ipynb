{
 "cells": [
  {
   "cell_type": "code",
   "execution_count": null,
   "metadata": {},
   "outputs": [],
   "source": [
    "!pip install tweepy\n",
    "!pip install textblob"
   ]
  },
  {
   "cell_type": "code",
   "execution_count": 1,
   "metadata": {},
   "outputs": [],
   "source": [
    "import tweepy\n",
    "from textblob import TextBlob"
   ]
  },
  {
   "cell_type": "code",
   "execution_count": 2,
   "metadata": {},
   "outputs": [],
   "source": [
    "# read all secret acces tokens and keys from a file\n",
    "# Consumer Key, Consumer Secret, Access token, Access token secret\n",
    "with open('.keys') as f:\n",
    "    keys = f.readlines()\n",
    "    keys = [key.strip() for key in keys] "
   ]
  },
  {
   "cell_type": "code",
   "execution_count": 3,
   "metadata": {},
   "outputs": [],
   "source": [
    "# authenticate using tweepy \n",
    "auth = tweepy.OAuthHandler(consumer_key=keys[0],consumer_secret=keys[1])\n",
    "auth.set_access_token(key=keys[2],secret=keys[3])\n",
    "# define a main API variable\n",
    "api = tweepy.API(auth)"
   ]
  },
  {
   "cell_type": "code",
   "execution_count": 4,
   "metadata": {},
   "outputs": [],
   "source": [
    "# search for public tweets about Trump\n",
    "public_tweets = api.search(q=\"Trump\", count=10, tweet_mode=\"extended\")"
   ]
  },
  {
   "cell_type": "code",
   "execution_count": 5,
   "metadata": {},
   "outputs": [
    {
     "name": "stdout",
     "output_type": "stream",
     "text": [
      "In the 406 days @realdonaldtrump has been in office, he's publicly made 2,436 false or misleading claims. He is averaging six false or misleading public claims per day, an average that has actually gone up during his presidency https://t.co/R64lKnvOZS\n",
      "Sentiment(polarity=-0.15833333333333335, subjectivity=0.3055555555555555)\n"
     ]
    }
   ],
   "source": [
    "# show the first tweet (handle retweet)\n",
    "try:\n",
    "    text = public_tweets[0].retweeted_status.full_text\n",
    "except:\n",
    "    text = public_tweets[0].full_text\n",
    "sentiment = TextBlob(text).sentiment\n",
    "print(text)\n",
    "print(sentiment)"
   ]
  },
  {
   "cell_type": "markdown",
   "metadata": {},
   "source": [
    "# Challenge\n",
    "### Create a csv labeled dataset"
   ]
  },
  {
   "cell_type": "code",
   "execution_count": 6,
   "metadata": {},
   "outputs": [],
   "source": [
    "# using pandas to create a dataset\n",
    "import pandas as pd\n",
    "pd.set_option('display.max_colwidth', -1)\n",
    "\n",
    "df = pd.DataFrame(columns=[\"Tweet\",\"Polarity\",\"Subjectivity\"])"
   ]
  },
  {
   "cell_type": "code",
   "execution_count": 7,
   "metadata": {},
   "outputs": [],
   "source": [
    "# Get 100 tweets about Italian Elections in extended form (280 char)\n",
    "public_tweets = api.search(q=\"Elezioni\",lang=\"it\", count=100, tweet_mode=\"extended\")\n",
    "\n",
    "for tweet in public_tweets:\n",
    "    try:\n",
    "        text = tweet.retweeted_status.full_text\n",
    "    except:\n",
    "        text = tweet.full_text\n",
    "    sentiment = TextBlob(text).sentiment\n",
    "    row = [text,sentiment[0],sentiment[1]]\n",
    "    # append the new data point to the current dataset\n",
    "    df = df.append(pd.Series(row, index=[\"Tweet\",\"Polarity\",\"Subjectivity\"]), ignore_index=True)\n",
    "\n",
    "df.to_csv(\"SensitivityElections.csv\")"
   ]
  },
  {
   "cell_type": "code",
   "execution_count": 8,
   "metadata": {},
   "outputs": [
    {
     "data": {
      "text/html": [
       "<div>\n",
       "<style>\n",
       "    .dataframe thead tr:only-child th {\n",
       "        text-align: right;\n",
       "    }\n",
       "\n",
       "    .dataframe thead th {\n",
       "        text-align: left;\n",
       "    }\n",
       "\n",
       "    .dataframe tbody tr th {\n",
       "        vertical-align: top;\n",
       "    }\n",
       "</style>\n",
       "<table border=\"1\" class=\"dataframe\">\n",
       "  <thead>\n",
       "    <tr style=\"text-align: right;\">\n",
       "      <th></th>\n",
       "      <th>Tweet</th>\n",
       "      <th>Polarity</th>\n",
       "      <th>Subjectivity</th>\n",
       "    </tr>\n",
       "  </thead>\n",
       "  <tbody>\n",
       "    <tr>\n",
       "      <th>0</th>\n",
       "      <td>Il 4 marzo per chi voterai? Rispondere SOLO ITALIANI e per favore date più RT possibili, ovvero fate girare questo sondaggio, grazie! #SilenzioElettorale #3marzo #ItalyElection2018 #MaratonaMentana #elezioni2018 #ElezioniPolitiche2018 #elezioni #Italy2018Elecitions</td>\n",
       "      <td>0.000</td>\n",
       "      <td>0.000</td>\n",
       "    </tr>\n",
       "    <tr>\n",
       "      <th>1</th>\n",
       "      <td>Andrete a votare domenica #4Marzo2018? In caso siate #indecisi ecco un ripasso dei temi più importanti nei programmi per le #elezioni2018 #voto https://t.co/8aiDlyTbrK</td>\n",
       "      <td>0.000</td>\n",
       "      <td>0.000</td>\n",
       "    </tr>\n",
       "    <tr>\n",
       "      <th>2</th>\n",
       "      <td>Sono stanca della campagna elettorale, ma allo stesso tempo ho paura del risultato delle elezioni https://t.co/z9tggmALzX</td>\n",
       "      <td>0.000</td>\n",
       "      <td>0.000</td>\n",
       "    </tr>\n",
       "    <tr>\n",
       "      <th>3</th>\n",
       "      <td>Come alle elezioni del 2013 ci si appresta a tradire il mandato dato dagli elettori.\\n\\nNel 2013 Scelta Civica, partito civetta fatto da “fuoriusciti” #PD che, eletti, sono tornati nel PD.\\n\\nNel 2018...\\n\\n#4marzo 🧟‍♀️🗳🧟‍♂️\\n#ElezioniPolitiche2018  \\n#Elezioni2018 https://t.co/ybIZjtNmko</td>\n",
       "      <td>0.000</td>\n",
       "      <td>0.000</td>\n",
       "    </tr>\n",
       "    <tr>\n",
       "      <th>4</th>\n",
       "      <td>Per preparaci interiormente al #voto di domani e alle prossime settimane, è bene tenere a mente queste due massime di saggezza. #4marzo #ElezioniPolitiche #Elezioni #SilenzioElettorale #voto4marzo #votare #elezioni2018 https://t.co/LUzcj7mR9B</td>\n",
       "      <td>-0.125</td>\n",
       "      <td>0.375</td>\n",
       "    </tr>\n",
       "  </tbody>\n",
       "</table>\n",
       "</div>"
      ],
      "text/plain": [
       "                                                                                                                                                                                                                                                                                               Tweet  \\\n",
       "0  Il 4 marzo per chi voterai? Rispondere SOLO ITALIANI e per favore date più RT possibili, ovvero fate girare questo sondaggio, grazie! #SilenzioElettorale #3marzo #ItalyElection2018 #MaratonaMentana #elezioni2018 #ElezioniPolitiche2018 #elezioni #Italy2018Elecitions                           \n",
       "1  Andrete a votare domenica #4Marzo2018? In caso siate #indecisi ecco un ripasso dei temi più importanti nei programmi per le #elezioni2018 #voto https://t.co/8aiDlyTbrK                                                                                                                             \n",
       "2  Sono stanca della campagna elettorale, ma allo stesso tempo ho paura del risultato delle elezioni https://t.co/z9tggmALzX                                                                                                                                                                           \n",
       "3  Come alle elezioni del 2013 ci si appresta a tradire il mandato dato dagli elettori.\\n\\nNel 2013 Scelta Civica, partito civetta fatto da “fuoriusciti” #PD che, eletti, sono tornati nel PD.\\n\\nNel 2018...\\n\\n#4marzo 🧟‍♀️🗳🧟‍♂️\\n#ElezioniPolitiche2018  \\n#Elezioni2018 https://t.co/ybIZjtNmko   \n",
       "4  Per preparaci interiormente al #voto di domani e alle prossime settimane, è bene tenere a mente queste due massime di saggezza. #4marzo #ElezioniPolitiche #Elezioni #SilenzioElettorale #voto4marzo #votare #elezioni2018 https://t.co/LUzcj7mR9B                                                  \n",
       "\n",
       "   Polarity  Subjectivity  \n",
       "0  0.000     0.000         \n",
       "1  0.000     0.000         \n",
       "2  0.000     0.000         \n",
       "3  0.000     0.000         \n",
       "4 -0.125     0.375         "
      ]
     },
     "execution_count": 8,
     "metadata": {},
     "output_type": "execute_result"
    }
   ],
   "source": [
    "df.head()"
   ]
  }
 ],
 "metadata": {
  "kernelspec": {
   "display_name": "Python 3",
   "language": "python",
   "name": "python3"
  },
  "language_info": {
   "codemirror_mode": {
    "name": "ipython",
    "version": 3
   },
   "file_extension": ".py",
   "mimetype": "text/x-python",
   "name": "python",
   "nbconvert_exporter": "python",
   "pygments_lexer": "ipython3",
   "version": "3.6.1"
  }
 },
 "nbformat": 4,
 "nbformat_minor": 2
}
