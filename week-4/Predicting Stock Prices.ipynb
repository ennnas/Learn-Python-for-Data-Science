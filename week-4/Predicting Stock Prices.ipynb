{
 "cells": [
  {
   "cell_type": "code",
   "execution_count": 1,
   "metadata": {
    "collapsed": true
   },
   "outputs": [],
   "source": [
    "import pandas as pd\n",
    "import numpy as np\n",
    "from sklearn.svm import SVR\n",
    "import matplotlib.pyplot as plt\n",
    "from datetime import datetime\n",
    "%matplotlib inline"
   ]
  },
  {
   "cell_type": "code",
   "execution_count": 1,
   "metadata": {
    "collapsed": true
   },
   "outputs": [],
   "source": [
    "def get_data(filename):\n",
    "    df = pd.read_csv(filename)\n",
    "    dates = [datetime.strptime(date, '%d-%b-%y').strftime('%y%m%d') for date in df[\"Date\"]]\n",
    "    prices = [float(value) for value in df[\"Open\"]]\n",
    "    return dates, prices\n",
    "\n",
    "def predict_prices(dates, prices, x):\n",
    "    colors = [\"red,\"\"green\",\"blue\"]\n",
    "    dates = np.reshape(dates, (len(dates),1))\n",
    "    \n",
    "    svr = {\"Linear\":SVR(kernel='linear', C=1e3), \n",
    "           \"Polynomial\": SVR(kernel='poly', C=1e3, degree=2), \n",
    "           \"Rbf\": SVR(kernel=\"rbf\", C=1e3, gamma=0.1)\n",
    "          }\n",
    "    for model_name in svr.keys():\n",
    "        svr[model_name].fit(dates, prices)\n",
    "    \n",
    "    plt.scatter(dates, prices, color=\"black\", label=\"Data\")\n",
    "    for color,model_name in zip(colors,svr.keys()):\n",
    "        plt.plot(dates, svr[model_name].predict(dates), color=color, label=model_name)\n",
    "    plt.xlabel(\"Date\")\n",
    "    plt.ylabel(\"Price\")\n",
    "    plt.title(\"Stock Prediction with SVR\")\n",
    "    plt.legend()\n",
    "    plt.show()\n",
    "    \n",
    "    day_predictions = [svr[model_name].predict(x) for model_name in svr.keys()]\n",
    "    return day_predictions"
   ]
  },
  {
   "cell_type": "code",
   "execution_count": 3,
   "metadata": {
    "collapsed": true
   },
   "outputs": [],
   "source": [
    "dates,prices = get_data(\"aapl.csv\")"
   ]
  },
  {
   "cell_type": "code",
   "execution_count": null,
   "metadata": {
    "collapsed": true
   },
   "outputs": [],
   "source": [
    "day_pred = predict_prices(dates, prices, 29)"
   ]
  }
 ],
 "metadata": {
  "kernelspec": {
   "display_name": "Python 3",
   "language": "python",
   "name": "python3"
  },
  "language_info": {
   "codemirror_mode": {
    "name": "ipython",
    "version": 3
   },
   "file_extension": ".py",
   "mimetype": "text/x-python",
   "name": "python",
   "nbconvert_exporter": "python",
   "pygments_lexer": "ipython3",
   "version": "3.6.1"
  }
 },
 "nbformat": 4,
 "nbformat_minor": 2
}
