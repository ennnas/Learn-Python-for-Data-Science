{
 "cells": [
  {
   "cell_type": "code",
   "execution_count": 10,
   "metadata": {},
   "outputs": [],
   "source": [
    "from tpot import TPOTClassifier\n",
    "from sklearn.cross_validation import train_test_split\n",
    "import pandas as pd \n",
    "import numpy as np"
   ]
  },
  {
   "cell_type": "code",
   "execution_count": 11,
   "metadata": {
    "collapsed": true
   },
   "outputs": [],
   "source": [
    "#load the data\n",
    "telescope=pd.read_csv('MAGIC Gamma Telescope Data.csv')\n",
    "\n",
    "#clean the data\n",
    "telescope_shuffle=telescope.iloc[np.random.permutation(len(telescope))]\n",
    "tele=telescope_shuffle.reset_index(drop=True)"
   ]
  },
  {
   "cell_type": "code",
   "execution_count": 12,
   "metadata": {},
   "outputs": [],
   "source": [
    "#Store 2 classes\n",
    "tele['Class']=tele['Class'].map({'g':0, 'h':1})\n",
    "tele_class = tele['Class'].values\n",
    "\n",
    "#Split training, testing, and validation data\n",
    "training_indices, validation_indices = training_indices, testing_indices = train_test_split(tele.index,\n",
    "                                                stratify= tele_class, train_size=0.75, test_size=0.25)"
   ]
  },
  {
   "cell_type": "code",
   "execution_count": 13,
   "metadata": {},
   "outputs": [
    {
     "data": {
      "text/html": [
       "<div>\n",
       "<style>\n",
       "    .dataframe thead tr:only-child th {\n",
       "        text-align: right;\n",
       "    }\n",
       "\n",
       "    .dataframe thead th {\n",
       "        text-align: left;\n",
       "    }\n",
       "\n",
       "    .dataframe tbody tr th {\n",
       "        vertical-align: top;\n",
       "    }\n",
       "</style>\n",
       "<table border=\"1\" class=\"dataframe\">\n",
       "  <thead>\n",
       "    <tr style=\"text-align: right;\">\n",
       "      <th></th>\n",
       "      <th>Flength</th>\n",
       "      <th>Fwidth</th>\n",
       "      <th>Fsize</th>\n",
       "      <th>Fconc</th>\n",
       "      <th>Fconc1</th>\n",
       "      <th>Fasym</th>\n",
       "      <th>Fm3long</th>\n",
       "      <th>Fm3trans</th>\n",
       "      <th>Falpha</th>\n",
       "      <th>Fdist</th>\n",
       "      <th>Class</th>\n",
       "    </tr>\n",
       "  </thead>\n",
       "  <tbody>\n",
       "    <tr>\n",
       "      <th>0</th>\n",
       "      <td>111.0550</td>\n",
       "      <td>28.6254</td>\n",
       "      <td>3.1816</td>\n",
       "      <td>0.2100</td>\n",
       "      <td>0.1175</td>\n",
       "      <td>-121.0610</td>\n",
       "      <td>43.8447</td>\n",
       "      <td>10.5501</td>\n",
       "      <td>0.2610</td>\n",
       "      <td>337.1550</td>\n",
       "      <td>0</td>\n",
       "    </tr>\n",
       "    <tr>\n",
       "      <th>1</th>\n",
       "      <td>81.3466</td>\n",
       "      <td>38.2146</td>\n",
       "      <td>3.3173</td>\n",
       "      <td>0.1647</td>\n",
       "      <td>0.0860</td>\n",
       "      <td>-42.1784</td>\n",
       "      <td>59.5826</td>\n",
       "      <td>31.3628</td>\n",
       "      <td>1.2749</td>\n",
       "      <td>317.9270</td>\n",
       "      <td>0</td>\n",
       "    </tr>\n",
       "    <tr>\n",
       "      <th>2</th>\n",
       "      <td>15.8755</td>\n",
       "      <td>9.5599</td>\n",
       "      <td>2.4025</td>\n",
       "      <td>0.8515</td>\n",
       "      <td>0.5467</td>\n",
       "      <td>20.1807</td>\n",
       "      <td>16.4719</td>\n",
       "      <td>-3.1284</td>\n",
       "      <td>43.4335</td>\n",
       "      <td>241.9764</td>\n",
       "      <td>1</td>\n",
       "    </tr>\n",
       "    <tr>\n",
       "      <th>3</th>\n",
       "      <td>25.8127</td>\n",
       "      <td>10.4511</td>\n",
       "      <td>2.6149</td>\n",
       "      <td>0.4757</td>\n",
       "      <td>0.2852</td>\n",
       "      <td>-9.7627</td>\n",
       "      <td>-11.6460</td>\n",
       "      <td>-5.8002</td>\n",
       "      <td>67.8393</td>\n",
       "      <td>220.1490</td>\n",
       "      <td>1</td>\n",
       "    </tr>\n",
       "    <tr>\n",
       "      <th>4</th>\n",
       "      <td>21.3860</td>\n",
       "      <td>13.6561</td>\n",
       "      <td>2.5682</td>\n",
       "      <td>0.5541</td>\n",
       "      <td>0.3662</td>\n",
       "      <td>-12.8325</td>\n",
       "      <td>-14.7031</td>\n",
       "      <td>12.0507</td>\n",
       "      <td>10.1420</td>\n",
       "      <td>146.3540</td>\n",
       "      <td>1</td>\n",
       "    </tr>\n",
       "  </tbody>\n",
       "</table>\n",
       "</div>"
      ],
      "text/plain": [
       "    Flength   Fwidth   Fsize   Fconc  Fconc1     Fasym  Fm3long  Fm3trans  \\\n",
       "0  111.0550  28.6254  3.1816  0.2100  0.1175 -121.0610  43.8447   10.5501   \n",
       "1   81.3466  38.2146  3.3173  0.1647  0.0860  -42.1784  59.5826   31.3628   \n",
       "2   15.8755   9.5599  2.4025  0.8515  0.5467   20.1807  16.4719   -3.1284   \n",
       "3   25.8127  10.4511  2.6149  0.4757  0.2852   -9.7627 -11.6460   -5.8002   \n",
       "4   21.3860  13.6561  2.5682  0.5541  0.3662  -12.8325 -14.7031   12.0507   \n",
       "\n",
       "    Falpha     Fdist  Class  \n",
       "0   0.2610  337.1550      0  \n",
       "1   1.2749  317.9270      0  \n",
       "2  43.4335  241.9764      1  \n",
       "3  67.8393  220.1490      1  \n",
       "4  10.1420  146.3540      1  "
      ]
     },
     "execution_count": 13,
     "metadata": {},
     "output_type": "execute_result"
    }
   ],
   "source": [
    "tele.head()"
   ]
  },
  {
   "cell_type": "code",
   "execution_count": 15,
   "metadata": {},
   "outputs": [
    {
     "name": "stdout",
     "output_type": "stream",
     "text": [
      "Warning: xgboost.XGBClassifier is not available and will not be used by TPOT.\n"
     ]
    },
    {
     "name": "stderr",
     "output_type": "stream",
     "text": [
      "Optimization Progress:  33%|███▎      | 200/600 [31:50<34:23,  5.16s/pipeline]  "
     ]
    },
    {
     "name": "stdout",
     "output_type": "stream",
     "text": [
      "Generation 1 - Current best internal CV score: 0.8750089039494597\n"
     ]
    },
    {
     "name": "stderr",
     "output_type": "stream",
     "text": [
      "Optimization Progress:  50%|█████     | 300/600 [1:04:52<1:18:20, 15.67s/pipeline]"
     ]
    },
    {
     "name": "stdout",
     "output_type": "stream",
     "text": [
      "Generation 2 - Current best internal CV score: 0.8750089039494597\n"
     ]
    },
    {
     "name": "stderr",
     "output_type": "stream",
     "text": [
      "Optimization Progress:  67%|██████▋   | 400/600 [2:04:48<1:31:52, 27.56s/pipeline] "
     ]
    },
    {
     "name": "stdout",
     "output_type": "stream",
     "text": [
      "Generation 3 - Current best internal CV score: 0.8792852029489253\n"
     ]
    },
    {
     "name": "stderr",
     "output_type": "stream",
     "text": [
      "                                                                                  \r"
     ]
    },
    {
     "name": "stdout",
     "output_type": "stream",
     "text": [
      "\n",
      "\n",
      "TPOT closed prematurely. Will use the current best pipeline.\n",
      "\n",
      "Best pipeline: GradientBoostingClassifier(CombineDFs(input_matrix, input_matrix), learning_rate=0.1, max_depth=9, max_features=0.15000000000000002, min_samples_leaf=11, min_samples_split=8, n_estimators=100, subsample=0.9500000000000001)\n"
     ]
    },
    {
     "data": {
      "text/plain": [
       "True"
      ]
     },
     "execution_count": 15,
     "metadata": {},
     "output_type": "execute_result"
    }
   ],
   "source": [
    "#Let Genetic Programming find best ML model and hyperparameters\n",
    "tpot = TPOTClassifier(generations=5, verbosity=2)\n",
    "tpot.fit(tele.drop('Class', axis=1).loc[training_indices].values,\n",
    "         tele.loc[training_indices, 'Class'].values)\n",
    "\n",
    "#Score the accuracy\n",
    "tpot.score(tele.drop('Class', axis=1).loc[validation_indices].values,\n",
    "           tele.loc[validation_indices, 'Class'].values)\n",
    "\n",
    "#Export the generated code\n",
    "tpot.export('pipeline.py')"
   ]
  }
 ],
 "metadata": {
  "kernelspec": {
   "display_name": "Python 3",
   "language": "python",
   "name": "python3"
  },
  "language_info": {
   "codemirror_mode": {
    "name": "ipython",
    "version": 3
   },
   "file_extension": ".py",
   "mimetype": "text/x-python",
   "name": "python",
   "nbconvert_exporter": "python",
   "pygments_lexer": "ipython3",
   "version": "3.6.1"
  }
 },
 "nbformat": 4,
 "nbformat_minor": 2
}
